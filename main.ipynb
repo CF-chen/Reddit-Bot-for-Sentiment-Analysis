{
 "cells": [
  {
   "cell_type": "code",
   "execution_count": null,
   "metadata": {
    "colab": {
     "base_uri": "https://localhost:8080/"
    },
    "id": "OJ_llhSMufPG",
    "outputId": "093d88fc-8efe-4731-e117-163245ff0179"
   },
   "outputs": [
    {
     "name": "stdout",
     "output_type": "stream",
     "text": [
      "Looking in indexes: https://pypi.org/simple, https://us-python.pkg.dev/colab-wheels/public/simple/\n",
      "Requirement already satisfied: nltk in /usr/local/lib/python3.7/dist-packages (3.7)\n",
      "Requirement already satisfied: regex>=2021.8.3 in /usr/local/lib/python3.7/dist-packages (from nltk) (2022.6.2)\n",
      "Requirement already satisfied: click in /usr/local/lib/python3.7/dist-packages (from nltk) (7.1.2)\n",
      "Requirement already satisfied: tqdm in /usr/local/lib/python3.7/dist-packages (from nltk) (4.64.0)\n",
      "Requirement already satisfied: joblib in /usr/local/lib/python3.7/dist-packages (from nltk) (1.1.0)\n",
      "Looking in indexes: https://pypi.org/simple, https://us-python.pkg.dev/colab-wheels/public/simple/\n",
      "Requirement already satisfied: praw in /usr/local/lib/python3.7/dist-packages (7.6.0)\n",
      "Requirement already satisfied: websocket-client>=0.54.0 in /usr/local/lib/python3.7/dist-packages (from praw) (1.3.3)\n",
      "Requirement already satisfied: prawcore<3,>=2.1 in /usr/local/lib/python3.7/dist-packages (from praw) (2.3.0)\n",
      "Requirement already satisfied: update-checker>=0.18 in /usr/local/lib/python3.7/dist-packages (from praw) (0.18.0)\n",
      "Requirement already satisfied: requests<3.0,>=2.6.0 in /usr/local/lib/python3.7/dist-packages (from prawcore<3,>=2.1->praw) (2.23.0)\n",
      "Requirement already satisfied: idna<3,>=2.5 in /usr/local/lib/python3.7/dist-packages (from requests<3.0,>=2.6.0->prawcore<3,>=2.1->praw) (2.10)\n",
      "Requirement already satisfied: chardet<4,>=3.0.2 in /usr/local/lib/python3.7/dist-packages (from requests<3.0,>=2.6.0->prawcore<3,>=2.1->praw) (3.0.4)\n",
      "Requirement already satisfied: urllib3!=1.25.0,!=1.25.1,<1.26,>=1.21.1 in /usr/local/lib/python3.7/dist-packages (from requests<3.0,>=2.6.0->prawcore<3,>=2.1->praw) (1.24.3)\n",
      "Requirement already satisfied: certifi>=2017.4.17 in /usr/local/lib/python3.7/dist-packages (from requests<3.0,>=2.6.0->prawcore<3,>=2.1->praw) (2022.6.15)\n",
      "Looking in indexes: https://pypi.org/simple, https://us-python.pkg.dev/colab-wheels/public/simple/\n",
      "Requirement already satisfied: matplotlib in /usr/local/lib/python3.7/dist-packages (3.2.2)\n",
      "Requirement already satisfied: kiwisolver>=1.0.1 in /usr/local/lib/python3.7/dist-packages (from matplotlib) (1.4.4)\n",
      "Requirement already satisfied: numpy>=1.11 in /usr/local/lib/python3.7/dist-packages (from matplotlib) (1.21.6)\n",
      "Requirement already satisfied: python-dateutil>=2.1 in /usr/local/lib/python3.7/dist-packages (from matplotlib) (2.8.2)\n",
      "Requirement already satisfied: cycler>=0.10 in /usr/local/lib/python3.7/dist-packages (from matplotlib) (0.11.0)\n",
      "Requirement already satisfied: pyparsing!=2.0.4,!=2.1.2,!=2.1.6,>=2.0.1 in /usr/local/lib/python3.7/dist-packages (from matplotlib) (3.0.9)\n",
      "Requirement already satisfied: typing-extensions in /usr/local/lib/python3.7/dist-packages (from kiwisolver>=1.0.1->matplotlib) (4.1.1)\n",
      "Requirement already satisfied: six>=1.5 in /usr/local/lib/python3.7/dist-packages (from python-dateutil>=2.1->matplotlib) (1.15.0)\n",
      "Looking in indexes: https://pypi.org/simple, https://us-python.pkg.dev/colab-wheels/public/simple/\n",
      "Collecting datetime\n",
      "  Using cached DateTime-4.5-py2.py3-none-any.whl (52 kB)\n",
      "Requirement already satisfied: pytz in /usr/local/lib/python3.7/dist-packages (from datetime) (2022.2.1)\n",
      "Collecting zope.interface\n",
      "  Using cached zope.interface-5.4.0-cp37-cp37m-manylinux2010_x86_64.whl (251 kB)\n",
      "Requirement already satisfied: setuptools in /usr/local/lib/python3.7/dist-packages (from zope.interface->datetime) (57.4.0)\n",
      "Installing collected packages: zope.interface, datetime\n",
      "Successfully installed datetime-4.5 zope.interface-5.4.0\n"
     ]
    },
    {
     "name": "stderr",
     "output_type": "stream",
     "text": [
      "[nltk_data] Downloading package vader_lexicon to /root/nltk_data...\n",
      "[nltk_data]   Package vader_lexicon is already up-to-date!\n",
      "[nltk_data] Downloading package stopwords to /root/nltk_data...\n",
      "[nltk_data]   Package stopwords is already up-to-date!\n"
     ]
    }
   ],
   "source": [
    "#!/usr/bin/env python\n",
    "# coding: utf-8\n",
    "!pip install nltk\n",
    "!pip install praw\n",
    "!pip install matplotlib\n",
    "!pip install datetime\n",
    "\n",
    "import warnings\n",
    "warnings.filterwarnings(\"ignore\", message=\"WARNING:praw:It appears that you are using PRAW in an asynchronous environment. \\n It is strongly recommended to use Async PRAW: https://asyncpraw.readthedocs.io. \\n See https://praw.readthedocs.io/en/latest/getting_started/multiple_instances.html#discord-bots-and-asynchronous-environments for more info.\")\n",
    "\n",
    "import nltk\n",
    "from 3.sentiment.vader import SentimentIntensityAnalyzer as SIA\n",
    "import praw\n",
    "import matplotlib.pyplot as plt\n",
    "import math\n",
    "import datetime as dt\n",
    "import pandas as pd\n",
    "import numpy as np\n",
    "\n",
    "nltk.download('vader_lexicon')    \n",
    "nltk.download('stopwords')    \n",
    "\n",
    "# Link to developer account\n",
    "reddit = praw.Reddit(\n",
    "    client_id=\"****************\", # Input account information\n",
    "    client_secret=\"****************\",\n",
    "    password=\"****************\",\n",
    "    user_agent=\"my user agent\",\n",
    "    username=\"Jiasuanna\",\n",
    ")\n",
    "\n"
   ]
  },
  {
   "cell_type": "code",
   "execution_count": null,
   "metadata": {
    "id": "CrDqbxlwunjr"
   },
   "outputs": [],
   "source": [
    "\n",
    "def commentSentiment(ticker, urlT):\n",
    "    \"\"\"\n",
    "    To grasp sentiment average score for comments\n",
    "    Extract info from urlT which directs to a post which mentiones the ticker in a subreddit.\n",
    "    \"\"\"\n",
    "    subComments = []\n",
    "    bodyComment = []\n",
    "    try:\n",
    "        check = reddit.submission(url=urlT)\n",
    "        subComments = check.comments\n",
    "    except:\n",
    "        return 0 \n",
    "    \n",
    "    for comment in subComments:\n",
    "        try: \n",
    "            bodyComment.append(comment.body)\n",
    "        except:\n",
    "            return 0\n",
    "    \n",
    "\n",
    "    sia = SIA() # SentimentIntensityAnalyzer\n",
    "    results = []\n",
    "    for line in bodyComment: \n",
    "        scores = sia.polarity_scores(line)\n",
    "        scores['headline'] = line \n",
    "        results.append(scores)\n",
    "    \n",
    "    df = pd.DataFrame.from_records(results) \n",
    "\n",
    "    df['label'] = 0 \n",
    "    try:\n",
    "        df.loc[df['compound'] > 0.1, 'label'] = 1 # positive sentiment \n",
    "        df.loc[df['compound'] < -0.1, 'label'] = -1 # negative sentiment\n",
    "    except:\n",
    "        return 0 # nutural otherwise\n",
    "    \n",
    "\n",
    "    # To compute the average scores of all commnets for the post directed by the url\n",
    "    averageScore = 0\n",
    "    position = 0 \n",
    "    while position < len(df.label)-1:\n",
    "        averageScore = averageScore + df.label[position]\n",
    "        position += 1\n",
    "    averageScore = averageScore/len(df.label)\n",
    "    \n",
    "    return averageScore\n",
    "    \n",
    "\n",
    "def latestComment(ticker, urlT):\n",
    "    \"\"\"\n",
    "    Find the latest comment through a given url\n",
    "    \"\"\"\n",
    "    subComments = []\n",
    "    updateDates = []\n",
    "    try:\n",
    "        check = reddit.submission(url=urlT)\n",
    "        subComments = check.comments\n",
    "    except:\n",
    "        return 0\n",
    "    \n",
    "    for comment in subComments:\n",
    "        try: \n",
    "            updateDates.append(comment.created_utc)\n",
    "        except:\n",
    "            return 0\n",
    "    \n",
    "    updateDates.sort()\n",
    "    return(updateDates[-1])\n",
    "\n",
    "\n",
    "def get_date(date):\n",
    "    return dt.datetime.fromtimestamp(date)\n"
   ]
  },
  {
   "cell_type": "code",
   "execution_count": null,
   "metadata": {
    "colab": {
     "base_uri": "https://localhost:8080/",
     "height": 1000
    },
    "id": "dpTpt1cB5436",
    "outputId": "5f466e1b-b90c-46c9-d2d5-b69bafe0c9fc"
   },
   "outputs": [],
   "source": [
    "# focues on subreddit 'wallstreetbets', and examine and trade stocks like \"GME\", \"AMC\", \"TSLA\"\n",
    "sub_reddit = \"wallstreetbets\"\n",
    "stocks = [\"GME\", \"AMC\", \"TSLA\"] \n",
    "\n",
    "\n",
    "# Creating a dataframe to record info from r/wallstreetbets that mentioned stocks that we wanna be looking at, here are [\"GME\", \"AMC\", \"TSLA\"] \n",
    "submission_statistics = []\n",
    "d = {}\n",
    "for ticker in stocks:\n",
    "    for submission in reddit.subreddit(sub_reddit).search(ticker, limit=130): # to output the most recent 130 post mentioned the tickers\n",
    "        if submission.domain != \"self.\"+sub_reddit:\n",
    "            continue\n",
    "        d = {}\n",
    "        d['ticker'] = ticker\n",
    "        d['num_comments'] = submission.num_comments\n",
    "        d['comment_sentiment_average'] = commentSentiment(ticker, submission.url)\n",
    "        if d['comment_sentiment_average'] == 0.000000:\n",
    "            continue\n",
    "        d['latest_comment_date'] = latestComment(ticker, submission.url)\n",
    "        d['score'] = submission.score\n",
    "        d['upvote_ratio'] = submission.upvote_ratio\n",
    "        d['date'] = submission.created_utc\n",
    "        d['domain'] = submission.domain\n",
    "        d['num_crossposts'] = submission.num_crossposts\n",
    "        d['author'] = submission.author\n",
    "        submission_statistics.append(d)\n",
    "    \n",
    "dfSentimentStocks = pd.DataFrame(submission_statistics) \n",
    "\n",
    "_timestampcreated = dfSentimentStocks[\"date\"].apply(get_date)\n",
    "dfSentimentStocks = dfSentimentStocks.assign(timestamp = _timestampcreated)\n",
    "\n",
    "_timestampcomment = dfSentimentStocks[\"latest_comment_date\"].apply(get_date)\n",
    "dfSentimentStocks = dfSentimentStocks.assign(commentdate = _timestampcomment)\n",
    "\n",
    "\n",
    "# plotting\n",
    "\n",
    "tickers = []\n",
    "for t in stocks:\n",
    "  posts_sentiment = dfSentimentStocks.loc[dfSentimentStocks.ticker == t].comment_sentiment_average\n",
    "  tickers += [posts_sentiment]\n",
    "\n",
    "stock_sentiment = []\n",
    "for ind in tickers:\n",
    "  sentiment = [0,0,0] #positive, neutural, negative\n",
    "  for i in ind:\n",
    "    if i > 0.05:\n",
    "      sentiment[0] += 1\n",
    "    elif i < - 0.05:\n",
    "      sentiment[2] += 1\n",
    "    else:\n",
    "      sentiment[1] += 1\n",
    "  stock_sentiment += [sentiment]\n",
    "\n",
    "length = len(stock_sentiment)\n"
   ]
  },
  {
   "cell_type": "code",
   "execution_count": null,
   "metadata": {
    "colab": {
     "base_uri": "https://localhost:8080/",
     "height": 757
    },
    "id": "kIXojnaDGwyu",
    "outputId": "764430a7-3458-4f7e-ca2e-dbc863a54a40"
   },
   "outputs": [
    {
     "data": {
      "image/png": "[encoded data removed]",
      "text/plain": [
       "<Figure size 432x288 with 1 Axes>"
      ]
     },
     "metadata": {},
     "output_type": "display_data"
    },
    {
     "data": {
      "image/png": "[encoded data removed]",
      "text/plain": [
       "<Figure size 432x288 with 1 Axes>"
      ]
     },
     "metadata": {},
     "output_type": "display_data"
    },
    {
     "data": {
      "image/png": "[encoded data removed]",
      "text/plain": [
       "<Figure size 432x288 with 1 Axes>"
      ]
     },
     "metadata": {},
     "output_type": "display_data"
    }
   ],
   "source": [
    "for i in range(length):\n",
    "  labels = [\"Positive\", \"Neutral\",\"Negative\"]\n",
    "  plt.pie(stock_sentiment[i], labels = labels, autopct=\"%1.1f%%\")\n",
    "  plt.title(stocks[i])\n",
    "  plt.show()"
   ]
  },
  {
   "cell_type": "code",
   "execution_count": null,
   "metadata": {
    "id": "tvBP8J88VJ17"
   },
   "outputs": [],
   "source": []
  }
 ],
 "metadata": {
  "colab": {
   "collapsed_sections": [],
   "provenance": []
  },
  "kernelspec": {
   "display_name": "Python 3 (ipykernel)",
   "language": "python",
   "name": "python3"
  },
  "language_info": {
   "codemirror_mode": {
    "name": "ipython",
    "version": 3
   },
   "file_extension": ".py",
   "mimetype": "text/x-python",
   "name": "python",
   "nbconvert_exporter": "python",
   "pygments_lexer": "ipython3",
   "version": "3.9.7"
  }
 },
 "nbformat": 4,
 "nbformat_minor": 4
}
