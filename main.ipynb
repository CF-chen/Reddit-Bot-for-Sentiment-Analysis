{
 "cells": [
  {
   "cell_type": "code",
   "execution_count": null,
   "id": "95b1b122-ea63-44d4-ac98-d1a16348da73",
   "metadata": {},
   "outputs": [],
   "source": []
  },
  {
   "cell_type": "code",
   "execution_count": 1,
   "id": "b025be64-6d5b-4f80-8d54-79dd5756a9a2",
   "metadata": {
    "colab": {
     "base_uri": "https://localhost:8080/"
    },
    "id": "OJ_llhSMufPG",
    "outputId": "093d88fc-8efe-4731-e117-163245ff0179"
   },
   "outputs": [
    {
     "name": "stdout",
     "output_type": "stream",
     "text": [
      "Requirement already satisfied: nltk in /Users/chenfan/opt/anaconda3/lib/python3.9/site-packages (3.7)\n",
      "Requirement already satisfied: tqdm in /Users/chenfan/opt/anaconda3/lib/python3.9/site-packages (from nltk) (4.63.0)\n",
      "Requirement already satisfied: regex>=2021.8.3 in /Users/chenfan/opt/anaconda3/lib/python3.9/site-packages (from nltk) (2022.3.15)\n",
      "Requirement already satisfied: joblib in /Users/chenfan/opt/anaconda3/lib/python3.9/site-packages (from nltk) (1.1.0)\n",
      "Requirement already satisfied: click in /Users/chenfan/opt/anaconda3/lib/python3.9/site-packages (from nltk) (8.0.4)\n",
      "Requirement already satisfied: praw in /Users/chenfan/opt/anaconda3/lib/python3.9/site-packages (7.6.0)\n",
      "Requirement already satisfied: update-checker>=0.18 in /Users/chenfan/opt/anaconda3/lib/python3.9/site-packages (from praw) (0.18.0)\n",
      "Requirement already satisfied: websocket-client>=0.54.0 in /Users/chenfan/opt/anaconda3/lib/python3.9/site-packages (from praw) (0.58.0)\n",
      "Requirement already satisfied: prawcore<3,>=2.1 in /Users/chenfan/opt/anaconda3/lib/python3.9/site-packages (from praw) (2.3.0)\n",
      "Requirement already satisfied: requests<3.0,>=2.6.0 in /Users/chenfan/opt/anaconda3/lib/python3.9/site-packages (from prawcore<3,>=2.1->praw) (2.27.1)\n",
      "Requirement already satisfied: idna<4,>=2.5 in /Users/chenfan/opt/anaconda3/lib/python3.9/site-packages (from requests<3.0,>=2.6.0->prawcore<3,>=2.1->praw) (3.3)\n",
      "Requirement already satisfied: urllib3<1.27,>=1.21.1 in /Users/chenfan/opt/anaconda3/lib/python3.9/site-packages (from requests<3.0,>=2.6.0->prawcore<3,>=2.1->praw) (1.26.8)\n",
      "Requirement already satisfied: certifi>=2017.4.17 in /Users/chenfan/opt/anaconda3/lib/python3.9/site-packages (from requests<3.0,>=2.6.0->prawcore<3,>=2.1->praw) (2021.10.8)\n",
      "Requirement already satisfied: charset-normalizer~=2.0.0 in /Users/chenfan/opt/anaconda3/lib/python3.9/site-packages (from requests<3.0,>=2.6.0->prawcore<3,>=2.1->praw) (2.0.4)\n",
      "Requirement already satisfied: six in /Users/chenfan/opt/anaconda3/lib/python3.9/site-packages (from websocket-client>=0.54.0->praw) (1.16.0)\n",
      "Requirement already satisfied: matplotlib in /Users/chenfan/opt/anaconda3/lib/python3.9/site-packages (3.5.1)\n",
      "Requirement already satisfied: packaging>=20.0 in /Users/chenfan/opt/anaconda3/lib/python3.9/site-packages (from matplotlib) (21.3)\n",
      "Requirement already satisfied: pyparsing>=2.2.1 in /Users/chenfan/opt/anaconda3/lib/python3.9/site-packages (from matplotlib) (3.0.4)\n",
      "Requirement already satisfied: numpy>=1.17 in /Users/chenfan/opt/anaconda3/lib/python3.9/site-packages (from matplotlib) (1.22.3)\n",
      "Requirement already satisfied: kiwisolver>=1.0.1 in /Users/chenfan/opt/anaconda3/lib/python3.9/site-packages (from matplotlib) (1.4.0)\n",
      "Requirement already satisfied: python-dateutil>=2.7 in /Users/chenfan/opt/anaconda3/lib/python3.9/site-packages (from matplotlib) (2.8.2)\n",
      "Requirement already satisfied: cycler>=0.10 in /Users/chenfan/opt/anaconda3/lib/python3.9/site-packages (from matplotlib) (0.11.0)\n",
      "Requirement already satisfied: fonttools>=4.22.0 in /Users/chenfan/opt/anaconda3/lib/python3.9/site-packages (from matplotlib) (4.31.2)\n",
      "Requirement already satisfied: pillow>=6.2.0 in /Users/chenfan/opt/anaconda3/lib/python3.9/site-packages (from matplotlib) (9.0.1)\n",
      "Requirement already satisfied: six>=1.5 in /Users/chenfan/opt/anaconda3/lib/python3.9/site-packages (from python-dateutil>=2.7->matplotlib) (1.16.0)\n",
      "Requirement already satisfied: datetime in /Users/chenfan/opt/anaconda3/lib/python3.9/site-packages (4.7)\n",
      "Requirement already satisfied: pytz in /Users/chenfan/opt/anaconda3/lib/python3.9/site-packages (from datetime) (2021.3)\n",
      "Requirement already satisfied: zope.interface in /Users/chenfan/opt/anaconda3/lib/python3.9/site-packages (from datetime) (5.4.0)\n",
      "Requirement already satisfied: setuptools in /Users/chenfan/opt/anaconda3/lib/python3.9/site-packages (from zope.interface->datetime) (58.0.4)\n"
     ]
    },
    {
     "name": "stderr",
     "output_type": "stream",
     "text": [
      "[nltk_data] Downloading package vader_lexicon to\n",
      "[nltk_data]     /Users/chenfan/nltk_data...\n",
      "[nltk_data]   Package vader_lexicon is already up-to-date!\n",
      "[nltk_data] Downloading package stopwords to\n",
      "[nltk_data]     /Users/chenfan/nltk_data...\n",
      "[nltk_data]   Package stopwords is already up-to-date!\n"
     ]
    }
   ],
   "source": [
    "#!/usr/bin/env python\n",
    "# coding: utf-8\n",
    "!pip install nltk\n",
    "!pip install praw\n",
    "!pip install matplotlib\n",
    "!pip install datetime\n",
    "\n",
    "import warnings\n",
    "warnings.filterwarnings(\"ignore\", message=\"WARNING:praw:It appears that you are using PRAW in an asynchronous environment. \\n It is strongly recommended to use Async PRAW: https://asyncpraw.readthedocs.io. \\n See https://praw.readthedocs.io/en/latest/getting_started/multiple_instances.html#discord-bots-and-asynchronous-environments for more info.\")\n",
    "\n",
    "import nltk\n",
    "from nltk.sentiment.vader import SentimentIntensityAnalyzer as SIA\n",
    "import praw\n",
    "import matplotlib.pyplot as plt\n",
    "import math\n",
    "import datetime as dt\n",
    "import pandas as pd\n",
    "import numpy as np\n",
    "\n",
    "nltk.download('vader_lexicon')    \n",
    "nltk.download('stopwords')    \n",
    "\n",
    "# Link to developer account\n",
    "reddit = praw.Reddit(\n",
    "    client_id=\"L7QPqVJ0FGSinh6H1MpQNA\",\n",
    "    client_secret=\"kE1i7eYbk_zskLuxf73q6uyhkKXycQ\",\n",
    "    password=\"123456Pass_@-Q\",\n",
    "    user_agent=\"my user agent\",\n",
    "    username=\"Jiasuanna\",\n",
    ")\n",
    "\n"
   ]
  },
  {
   "cell_type": "code",
   "execution_count": 2,
   "id": "2189e041-ef24-4117-8903-da2f4724acbe",
   "metadata": {
    "id": "CrDqbxlwunjr"
   },
   "outputs": [],
   "source": [
    "\n",
    "def commentSentiment(ticker, urlT):\n",
    "    \"\"\"\n",
    "    To grasp sentiment average score for comments\n",
    "    Extract info from urlT which directs to a post which mentiones the ticker in a subreddit.\n",
    "    \"\"\"\n",
    "    subComments = []\n",
    "    bodyComment = []\n",
    "    try:\n",
    "        check = reddit.submission(url=urlT)\n",
    "        subComments = check.comments\n",
    "    except:\n",
    "        return 0 \n",
    "    \n",
    "    for comment in subComments:\n",
    "        try: \n",
    "            bodyComment.append(comment.body)\n",
    "        except:\n",
    "            return 0\n",
    "    \n",
    "\n",
    "    sia = SIA() # SentimentIntensityAnalyzer\n",
    "    results = []\n",
    "    for line in bodyComment: \n",
    "        scores = sia.polarity_scores(line)\n",
    "        scores['headline'] = line \n",
    "        results.append(scores)\n",
    "    \n",
    "    df = pd.DataFrame.from_records(results) \n",
    "\n",
    "    df['label'] = 0 \n",
    "    try:\n",
    "        df.loc[df['compound'] > 0.1, 'label'] = 1 # positive sentiment \n",
    "        df.loc[df['compound'] < -0.1, 'label'] = -1 # negative sentiment\n",
    "    except:\n",
    "        return 0 # nutural otherwise\n",
    "    \n",
    "\n",
    "    # To compute the average scores of all commnets for the post directed by the url\n",
    "    averageScore = 0\n",
    "    position = 0 \n",
    "    while position < len(df.label)-1:\n",
    "        averageScore = averageScore + df.label[position]\n",
    "        position += 1\n",
    "    averageScore = averageScore/len(df.label)\n",
    "    \n",
    "    return averageScore\n",
    "    \n",
    "\n",
    "def latestComment(ticker, urlT):\n",
    "    \"\"\"\n",
    "    Find the latest comment through a given url\n",
    "    \"\"\"\n",
    "    subComments = []\n",
    "    updateDates = []\n",
    "    try:\n",
    "        check = reddit.submission(url=urlT)\n",
    "        subComments = check.comments\n",
    "    except:\n",
    "        return 0\n",
    "    \n",
    "    for comment in subComments:\n",
    "        try: \n",
    "            updateDates.append(comment.created_utc)\n",
    "        except:\n",
    "            return 0\n",
    "    \n",
    "    updateDates.sort()\n",
    "    return(updateDates[-1])\n",
    "\n",
    "\n",
    "def get_date(date):\n",
    "    return dt.datetime.fromtimestamp(date)\n"
   ]
  },
  {
   "cell_type": "code",
   "execution_count": 3,
   "id": "b9adc2cb-789d-4a93-b144-feddd8615f00",
   "metadata": {
    "colab": {
     "base_uri": "https://localhost:8080/",
     "height": 1000
    },
    "id": "dpTpt1cB5436",
    "outputId": "5f466e1b-b90c-46c9-d2d5-b69bafe0c9fc"
   },
   "outputs": [],
   "source": [
    "# focues on subreddit 'wallstreetbets', and examine and trade stocks like \"GME\", \"AMC\", \"TSLA\"\n",
    "sub_reddit = \"wallstreetbets\"\n",
    "stocks = [\"GME\", \"AMC\", \"TSLA\"] \n",
    "\n",
    "\n",
    "# Creating a dataframe to record info from r/wallstreetbets that mentioned stocks that we wanna be looking at, here are [\"GME\", \"AMC\", \"TSLA\"] \n",
    "submission_statistics = []\n",
    "d = {}\n",
    "for ticker in stocks:\n",
    "    for submission in reddit.subreddit(sub_reddit).search(ticker, limit=130): # to output the most recent 130 post mentioned the tickers\n",
    "        if submission.domain != \"self.\"+sub_reddit:\n",
    "            continue\n",
    "        d = {}\n",
    "        d['ticker'] = ticker\n",
    "        d['num_comments'] = submission.num_comments\n",
    "        d['comment_sentiment_average'] = commentSentiment(ticker, submission.url)\n",
    "        if d['comment_sentiment_average'] == 0.000000:\n",
    "            continue\n",
    "        d['latest_comment_date'] = latestComment(ticker, submission.url)\n",
    "        d['score'] = submission.score\n",
    "        d['upvote_ratio'] = submission.upvote_ratio\n",
    "        d['date'] = submission.created_utc\n",
    "        d['domain'] = submission.domain\n",
    "        d['num_crossposts'] = submission.num_crossposts\n",
    "        d['author'] = submission.author\n",
    "        submission_statistics.append(d)\n",
    "    \n",
    "dfSentimentStocks = pd.DataFrame(submission_statistics) \n",
    "\n",
    "_timestampcreated = dfSentimentStocks[\"date\"].apply(get_date)\n",
    "dfSentimentStocks = dfSentimentStocks.assign(timestamp = _timestampcreated)\n",
    "\n",
    "_timestampcomment = dfSentimentStocks[\"latest_comment_date\"].apply(get_date)\n",
    "dfSentimentStocks = dfSentimentStocks.assign(commentdate = _timestampcomment)\n",
    "\n",
    "\n",
    "# plotting\n",
    "\n",
    "tickers = []\n",
    "for t in stocks:\n",
    "    posts_sentiment = dfSentimentStocks.loc[dfSentimentStocks.ticker == t].comment_sentiment_average\n",
    "    tickers += [posts_sentiment]\n",
    "\n",
    "stock_sentiment = []\n",
    "for ind in tickers:\n",
    "    sentiment = [0,0,0] #positive, neutural, negative\n",
    "    for i in ind:\n",
    "        if i > 0.05:\n",
    "            sentiment[0] += 1\n",
    "        elif i < - 0.05:\n",
    "            sentiment[2] += 1\n",
    "        else:\n",
    "            sentiment[1] += 1\n",
    "    stock_sentiment += [sentiment]\n",
    "\n",
    "length = len(stock_sentiment)\n"
   ]
  },
  {
   "cell_type": "code",
   "execution_count": 4,
   "id": "c000860a-8d90-4e0d-aa28-cc57bfbbfe2f",
   "metadata": {
    "colab": {
     "base_uri": "https://localhost:8080/",
     "height": 757
    },
    "id": "kIXojnaDGwyu",
    "outputId": "764430a7-3458-4f7e-ca2e-dbc863a54a40"
   },
   "outputs": [
    {
     "data": {
      "image/png": "[encoded data removed]",
      "text/plain": [
       "<Figure size 432x288 with 1 Axes>"
      ]
     },
     "metadata": {},
     "output_type": "display_data"
    },
    {
     "data": {
      "image/png": "[encoded data removed]",
      "text/plain": [
       "<Figure size 432x288 with 1 Axes>"
      ]
     },
     "metadata": {},
     "output_type": "display_data"
    },
    {
     "data": {
      "image/png": "[encoded data removed]",
      "text/plain": [
       "<Figure size 432x288 with 1 Axes>"
      ]
     },
     "metadata": {},
     "output_type": "display_data"
    }
   ],
   "source": [
    "for i in range(length):\n",
    "    labels = [\"Positive\", \"Neutral\",\"Negative\"]\n",
    "    plt.pie(stock_sentiment[i], labels = labels, autopct=\"%1.1f%%\")\n",
    "    plt.title(stocks[i])\n",
    "    plt.show()"
   ]
  },
  {
   "cell_type": "code",
   "execution_count": 5,
   "id": "0ce2eaed-2b1d-449d-a553-3a470a06e1cb",
   "metadata": {
    "id": "tvBP8J88VJ17"
   },
   "outputs": [],
   "source": [
    "# Cryptocurriencies"
   ]
  },
  {
   "cell_type": "code",
   "execution_count": 7,
   "id": "fbce23b0-bcc6-452b-b17c-66a17e29c987",
   "metadata": {
    "colab": {
     "base_uri": "https://localhost:8080/",
     "height": 1000
    },
    "id": "dpTpt1cB5436",
    "outputId": "5f466e1b-b90c-46c9-d2d5-b69bafe0c9fc"
   },
   "outputs": [],
   "source": [
    "# focues on subreddit 'CryptoCurrency', and examine and cryptocurrencies like \"Bitcoin\", \"Ethereum\", \"Tether\"\n",
    "sub_reddit = \"CryptoCurrency\"\n",
    "cryptos = [\"Bitcoin\", \"Ethereum\", \"Tether\"] \n",
    "\n",
    "submission_statistics = []\n",
    "d = {}\n",
    "for ticker in cryptos:\n",
    "    for submission in reddit.subreddit(sub_reddit).search(ticker, limit=130): # to output the most recent 130 post mentioned the tickers\n",
    "        if submission.domain != \"self.\"+sub_reddit:\n",
    "            continue\n",
    "        d = {}\n",
    "        d['ticker'] = ticker\n",
    "        d['num_comments'] = submission.num_comments\n",
    "        d['comment_sentiment_average'] = commentSentiment(ticker, submission.url)\n",
    "        if d['comment_sentiment_average'] == 0.000000:\n",
    "            continue\n",
    "        d['latest_comment_date'] = latestComment(ticker, submission.url)\n",
    "        d['score'] = submission.score\n",
    "        d['upvote_ratio'] = submission.upvote_ratio\n",
    "        d['date'] = submission.created_utc\n",
    "        d['domain'] = submission.domain\n",
    "        d['num_crossposts'] = submission.num_crossposts\n",
    "        d['author'] = submission.author\n",
    "        submission_statistics.append(d)\n",
    "    \n",
    "dfSentimentCryptos = pd.DataFrame(submission_statistics) \n",
    "\n",
    "_timestampcreated = dfSentimentCryptos[\"date\"].apply(get_date)\n",
    "dfSentimentCryptos = dfSentimentCryptos.assign(timestamp = _timestampcreated)\n",
    "\n",
    "_timestampcomment = dfSentimentCryptos[\"latest_comment_date\"].apply(get_date)\n",
    "dfSentimentCryptos = dfSentimentCryptos.assign(commentdate = _timestampcomment)\n",
    "\n",
    "\n",
    "# plotting\n",
    "\n",
    "tickers = []\n",
    "for t in cryptos:\n",
    "    posts_sentiment = dfSentimentCryptos.loc[dfSentimentCryptos.ticker == t].comment_sentiment_average\n",
    "    tickers += [posts_sentiment]\n",
    "\n",
    "Crypto_sentiment = []\n",
    "for ind in tickers:\n",
    "    sentiment = [0,0,0] #positive, neutural, negative\n",
    "    for i in ind:\n",
    "        if i > 0.05:\n",
    "            sentiment[0] += 1\n",
    "        elif i < - 0.05:\n",
    "            sentiment[2] += 1\n",
    "        else:\n",
    "            sentiment[1] += 1\n",
    "    Crypto_sentiment += [sentiment]\n",
    "\n",
    "length = len(Crypto_sentiment)\n"
   ]
  },
  {
   "cell_type": "code",
   "execution_count": 9,
   "id": "104e6594-1d66-4067-856c-f1ec53424b7b",
   "metadata": {
    "colab": {
     "base_uri": "https://localhost:8080/",
     "height": 757
    },
    "id": "kIXojnaDGwyu",
    "outputId": "764430a7-3458-4f7e-ca2e-dbc863a54a40"
   },
   "outputs": [
    {
     "data": {
      "image/png": "[encoded data removed]",
      "text/plain": [
       "<Figure size 432x288 with 1 Axes>"
      ]
     },
     "metadata": {},
     "output_type": "display_data"
    },
    {
     "data": {
      "image/png": "[encoded data removed]",
      "text/plain": [
       "<Figure size 432x288 with 1 Axes>"
      ]
     },
     "metadata": {},
     "output_type": "display_data"
    },
    {
     "data": {
      "image/png": "[encoded data removed]",
      "text/plain": [
       "<Figure size 432x288 with 1 Axes>"
      ]
     },
     "metadata": {},
     "output_type": "display_data"
    }
   ],
   "source": [
    "for i in range(length):\n",
    "    labels = [\"Positive\", \"Neutral\",\"Negative\"]\n",
    "    plt.pie(Crypto_sentiment[i], labels = labels, autopct=\"%1.1f%%\")\n",
    "    plt.title(cryptos[i])\n",
    "    plt.show()"
   ]
  },
  {
   "cell_type": "code",
   "execution_count": null,
   "id": "6c2b128b-0862-4467-a240-37ce1da518d2",
   "metadata": {},
   "outputs": [],
   "source": []
  }
 ],
 "metadata": {
  "kernelspec": {
   "display_name": "Python 3 (ipykernel)",
   "language": "python",
   "name": "python3"
  },
  "language_info": {
   "codemirror_mode": {
    "name": "ipython",
    "version": 3
   },
   "file_extension": ".py",
   "mimetype": "text/x-python",
   "name": "python",
   "nbconvert_exporter": "python",
   "pygments_lexer": "ipython3",
   "version": "3.9.7"
  }
 },
 "nbformat": 4,
 "nbformat_minor": 5
}
